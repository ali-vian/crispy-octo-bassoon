{
 "cells": [
  {
   "cell_type": "code",
   "execution_count": 3,
   "id": "0257bd29",
   "metadata": {},
   "outputs": [
    {
     "name": "stdout",
     "output_type": "stream",
     "text": [
      "Data Sebelum SMOTE: \n",
      "   Feature  Class\n",
      "0        1      0\n",
      "1        2      0\n",
      "2        3      0\n",
      "3        4      0\n",
      "4        5      0\n",
      "5        6      0\n",
      "6        7      0\n",
      "7        8      1\n",
      "8        9      1\n",
      "9       10      1\n",
      "\n",
      "Data Setelah SMOTE:\n",
      "    Feature  Class\n",
      "0         1      0\n",
      "1         2      0\n",
      "2         3      0\n",
      "3         4      0\n",
      "4         5      0\n",
      "5         6      0\n",
      "6         7      0\n",
      "7         8      1\n",
      "8         9      1\n",
      "9        10      1\n",
      "10        8      1\n",
      "11        9      1\n",
      "12        8      1\n",
      "13        8      1\n"
     ]
    }
   ],
   "source": [
    "import numpy as np\n",
    "import pandas as pd\n",
    "import sklearn\n",
    "from imblearn.over_sampling import SMOTE\n",
    "\n",
    "\n",
    "\n",
    "X = np.array([[1],[2],[3],[4],[5],[6],[7],[8],[9],[10]])\n",
    "y = np.array([0,0,0,0,0,0,0,1,1,1])\n",
    "\n",
    "df_before = pd.DataFrame(X,columns=[\"Feature\"])\n",
    "df_before['Class'] = y\n",
    "print(\"Data Sebelum SMOTE: \")\n",
    "print(df_before)\n",
    "\n",
    "smote = SMOTE(k_neighbors=2)\n",
    "X_resampled, y_resampled = smote.fit_resample(X,y)\n",
    "\n",
    "df_after = pd.DataFrame(X_resampled,columns=[\"Feature\"])\n",
    "df_after[\"Class\"] = y_resampled\n",
    "print(\"\\nData Setelah SMOTE:\")\n",
    "print(df_after)"
   ]
  },
  {
   "cell_type": "code",
   "execution_count": null,
   "id": "d6fd4d94",
   "metadata": {},
   "outputs": [],
   "source": []
  },
  {
   "cell_type": "code",
   "execution_count": null,
   "id": "b481d532",
   "metadata": {},
   "outputs": [],
   "source": []
  },
  {
   "cell_type": "code",
   "execution_count": null,
   "id": "0da523da",
   "metadata": {},
   "outputs": [],
   "source": []
  }
 ],
 "metadata": {
  "kernelspec": {
   "display_name": "Python 3 (ipykernel)",
   "language": "python",
   "name": "python3"
  },
  "language_info": {
   "codemirror_mode": {
    "name": "ipython",
    "version": 3
   },
   "file_extension": ".py",
   "mimetype": "text/x-python",
   "name": "python",
   "nbconvert_exporter": "python",
   "pygments_lexer": "ipython3",
   "version": "3.12.7"
  }
 },
 "nbformat": 4,
 "nbformat_minor": 5
}
