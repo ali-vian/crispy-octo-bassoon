{
 "cells": [
  {
   "cell_type": "code",
   "execution_count": 1,
   "id": "e785c431",
   "metadata": {},
   "outputs": [
    {
     "name": "stdout",
     "output_type": "stream",
     "text": [
      "  Mahasiswa Jenis Kelamin  Asal Kota       Program Studi\n",
      "0     Paijo             L    Magetan  Teknik Informatika\n",
      "1    Andini             P    Jombang  Teknik Informatika\n",
      "2     Sindy             P   Surabaya                PGSD\n",
      "3      Budi             L  Bangkalan          Ilmu Hukum\n",
      "4     Sonia             P   Sidoarjo      Teknik Elektro\n",
      "5      Alex             L    Jombang           Psikologi\n",
      "6    Wildan             L   Lamongan                PGSD\n",
      "7      Agus             L  Bangkalan      Teknik Elektro\n",
      "8    Nadhif             L       Pati           Psikologi\n"
     ]
    }
   ],
   "source": [
    "import pandas as pd\n",
    "\n",
    "data_csv = pd.read_csv('data_mahasiswa.csv',delimiter=';')\n",
    "print(data_csv)"
   ]
  },
  {
   "cell_type": "code",
   "execution_count": 2,
   "id": "b3e53623",
   "metadata": {},
   "outputs": [],
   "source": [
    "jenis_kelamin = data_csv['Jenis Kelamin']\n",
    "asal_kota = data_csv['Asal Kota']\n",
    "prodi = data_csv['Program Studi']"
   ]
  },
  {
   "cell_type": "code",
   "execution_count": 3,
   "id": "64a9467e",
   "metadata": {},
   "outputs": [
    {
     "name": "stdout",
     "output_type": "stream",
     "text": [
      "[0 1 1 0 1 0 0 0 0]\n"
     ]
    }
   ],
   "source": [
    "from sklearn.preprocessing import LabelEncoder\n",
    "label_encoder = LabelEncoder()\n",
    "jenis_kelamin_encoded = label_encoder.fit_transform(jenis_kelamin)\n",
    "\n",
    "print(jenis_kelamin_encoded)"
   ]
  },
  {
   "cell_type": "code",
   "execution_count": 4,
   "id": "69bd3936",
   "metadata": {},
   "outputs": [
    {
     "name": "stdout",
     "output_type": "stream",
     "text": [
      "   Bangkalan  Jombang  Lamongan  Magetan  Pati  Sidoarjo  Surabaya\n",
      "0          0        0         0        1     0         0         0\n",
      "1          0        1         0        0     0         0         0\n",
      "2          0        0         0        0     0         0         1\n",
      "3          1        0         0        0     0         0         0\n",
      "4          0        0         0        0     0         1         0\n",
      "5          0        1         0        0     0         0         0\n",
      "6          0        0         1        0     0         0         0\n",
      "7          1        0         0        0     0         0         0\n",
      "8          0        0         0        0     1         0         0\n"
     ]
    },
    {
     "data": {
      "text/plain": [
       "[[0, 0, 0, 1, 0, 0, 0],\n",
       " [0, 1, 0, 0, 0, 0, 0],\n",
       " [0, 0, 0, 0, 0, 0, 1],\n",
       " [1, 0, 0, 0, 0, 0, 0],\n",
       " [0, 0, 0, 0, 0, 1, 0],\n",
       " [0, 1, 0, 0, 0, 0, 0],\n",
       " [0, 0, 1, 0, 0, 0, 0],\n",
       " [1, 0, 0, 0, 0, 0, 0],\n",
       " [0, 0, 0, 0, 1, 0, 0]]"
      ]
     },
     "execution_count": 4,
     "metadata": {},
     "output_type": "execute_result"
    }
   ],
   "source": [
    "asal_kota_encoded = pd.get_dummies(asal_kota)\n",
    "print(asal_kota_encoded )\n",
    "asal_kota_encoded = asal_kota_encoded.values.tolist()\n",
    "asal_kota_encoded"
   ]
  },
  {
   "cell_type": "code",
   "execution_count": 5,
   "id": "c686558b",
   "metadata": {},
   "outputs": [
    {
     "name": "stdout",
     "output_type": "stream",
     "text": [
      "[4 4 1 0 3 2 1 3 2]\n"
     ]
    }
   ],
   "source": [
    "prodi_encoded = label_encoder.fit_transform(prodi)\n",
    "\n",
    "print(prodi_encoded)"
   ]
  },
  {
   "cell_type": "code",
   "execution_count": 6,
   "id": "79022580",
   "metadata": {},
   "outputs": [
    {
     "data": {
      "text/html": [
       "<div>\n",
       "<style scoped>\n",
       "    .dataframe tbody tr th:only-of-type {\n",
       "        vertical-align: middle;\n",
       "    }\n",
       "\n",
       "    .dataframe tbody tr th {\n",
       "        vertical-align: top;\n",
       "    }\n",
       "\n",
       "    .dataframe thead th {\n",
       "        text-align: right;\n",
       "    }\n",
       "</style>\n",
       "<table border=\"1\" class=\"dataframe\">\n",
       "  <thead>\n",
       "    <tr style=\"text-align: right;\">\n",
       "      <th></th>\n",
       "      <th>Mahasiswa</th>\n",
       "      <th>Jenis Kelamin</th>\n",
       "      <th>Asal Kota</th>\n",
       "      <th>Program Studi</th>\n",
       "    </tr>\n",
       "  </thead>\n",
       "  <tbody>\n",
       "    <tr>\n",
       "      <th>0</th>\n",
       "      <td>Paijo</td>\n",
       "      <td>0</td>\n",
       "      <td>[0, 0, 0, 1, 0, 0, 0]</td>\n",
       "      <td>4</td>\n",
       "    </tr>\n",
       "    <tr>\n",
       "      <th>1</th>\n",
       "      <td>Andini</td>\n",
       "      <td>1</td>\n",
       "      <td>[0, 1, 0, 0, 0, 0, 0]</td>\n",
       "      <td>4</td>\n",
       "    </tr>\n",
       "    <tr>\n",
       "      <th>2</th>\n",
       "      <td>Sindy</td>\n",
       "      <td>1</td>\n",
       "      <td>[0, 0, 0, 0, 0, 0, 1]</td>\n",
       "      <td>1</td>\n",
       "    </tr>\n",
       "    <tr>\n",
       "      <th>3</th>\n",
       "      <td>Budi</td>\n",
       "      <td>0</td>\n",
       "      <td>[1, 0, 0, 0, 0, 0, 0]</td>\n",
       "      <td>0</td>\n",
       "    </tr>\n",
       "    <tr>\n",
       "      <th>4</th>\n",
       "      <td>Sonia</td>\n",
       "      <td>1</td>\n",
       "      <td>[0, 0, 0, 0, 0, 1, 0]</td>\n",
       "      <td>3</td>\n",
       "    </tr>\n",
       "    <tr>\n",
       "      <th>5</th>\n",
       "      <td>Alex</td>\n",
       "      <td>0</td>\n",
       "      <td>[0, 1, 0, 0, 0, 0, 0]</td>\n",
       "      <td>2</td>\n",
       "    </tr>\n",
       "    <tr>\n",
       "      <th>6</th>\n",
       "      <td>Wildan</td>\n",
       "      <td>0</td>\n",
       "      <td>[0, 0, 1, 0, 0, 0, 0]</td>\n",
       "      <td>1</td>\n",
       "    </tr>\n",
       "    <tr>\n",
       "      <th>7</th>\n",
       "      <td>Agus</td>\n",
       "      <td>0</td>\n",
       "      <td>[1, 0, 0, 0, 0, 0, 0]</td>\n",
       "      <td>3</td>\n",
       "    </tr>\n",
       "    <tr>\n",
       "      <th>8</th>\n",
       "      <td>Nadhif</td>\n",
       "      <td>0</td>\n",
       "      <td>[0, 0, 0, 0, 1, 0, 0]</td>\n",
       "      <td>2</td>\n",
       "    </tr>\n",
       "  </tbody>\n",
       "</table>\n",
       "</div>"
      ],
      "text/plain": [
       "  Mahasiswa  Jenis Kelamin              Asal Kota  Program Studi\n",
       "0     Paijo              0  [0, 0, 0, 1, 0, 0, 0]              4\n",
       "1    Andini              1  [0, 1, 0, 0, 0, 0, 0]              4\n",
       "2     Sindy              1  [0, 0, 0, 0, 0, 0, 1]              1\n",
       "3      Budi              0  [1, 0, 0, 0, 0, 0, 0]              0\n",
       "4     Sonia              1  [0, 0, 0, 0, 0, 1, 0]              3\n",
       "5      Alex              0  [0, 1, 0, 0, 0, 0, 0]              2\n",
       "6    Wildan              0  [0, 0, 1, 0, 0, 0, 0]              1\n",
       "7      Agus              0  [1, 0, 0, 0, 0, 0, 0]              3\n",
       "8    Nadhif              0  [0, 0, 0, 0, 1, 0, 0]              2"
      ]
     },
     "execution_count": 6,
     "metadata": {},
     "output_type": "execute_result"
    }
   ],
   "source": [
    "data_encoded = data_csv.copy()\n",
    "data_encoded['Jenis Kelamin'] = jenis_kelamin_encoded\n",
    "data_encoded['Program Studi'] = prodi_encoded\n",
    "data_encoded['Asal Kota'] = asal_kota_encoded\n",
    "data_encoded"
   ]
  }
 ],
 "metadata": {
  "kernelspec": {
   "display_name": "Python 3 (ipykernel)",
   "language": "python",
   "name": "python3"
  },
  "language_info": {
   "codemirror_mode": {
    "name": "ipython",
    "version": 3
   },
   "file_extension": ".py",
   "mimetype": "text/x-python",
   "name": "python",
   "nbconvert_exporter": "python",
   "pygments_lexer": "ipython3",
   "version": "3.11.4"
  }
 },
 "nbformat": 4,
 "nbformat_minor": 5
}
