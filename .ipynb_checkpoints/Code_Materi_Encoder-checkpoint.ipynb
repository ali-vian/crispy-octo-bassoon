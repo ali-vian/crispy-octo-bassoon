{
 "cells": [
  {
   "cell_type": "code",
   "execution_count": 1,
   "id": "6b379cad",
   "metadata": {},
   "outputs": [
    {
     "name": "stdout",
     "output_type": "stream",
     "text": [
      "[5 4 2 5 4 0 3 1]\n"
     ]
    }
   ],
   "source": [
    "# Label Encoder\n",
    "\n",
    "from sklearn.preprocessing import LabelEncoder\n",
    "\n",
    "data = [\"Senin\",\"Selasa\",\"Rabu\",\"Senin\",\"Selasa\",\"Jumat\",\"Sabtu\",\"Minggu\"]\n",
    "label_encoder = LabelEncoder()\n",
    "numeric_data = label_encoder.fit_transform(data)\n",
    "\n",
    "print(numeric_data)"
   ]
  },
  {
   "cell_type": "code",
   "execution_count": 2,
   "id": "fe6e375b",
   "metadata": {},
   "outputs": [
    {
     "name": "stdout",
     "output_type": "stream",
     "text": [
      "   Jumat  Minggu  Rabu  Sabtu  Selasa  Senin\n",
      "0      0       0     0      0       0      1\n",
      "1      0       0     0      0       1      0\n",
      "2      0       0     1      0       0      0\n",
      "3      0       0     0      0       0      1\n",
      "4      0       0     0      0       1      0\n",
      "5      1       0     0      0       0      0\n",
      "6      0       0     0      1       0      0\n",
      "7      0       1     0      0       0      0\n"
     ]
    }
   ],
   "source": [
    "#One Hot Encoding\n",
    "\n",
    "import pandas as pd\n",
    "\n",
    "data = [\"Senin\",\"Selasa\",\"Rabu\",\"Senin\",\"Selasa\",\"Jumat\",\"Sabtu\",\"Minggu\"]\n",
    "one_hot_encoded_data = pd.get_dummies(data)\n",
    "\n",
    "print(one_hot_encoded_data)"
   ]
  },
  {
   "cell_type": "code",
   "execution_count": 6,
   "id": "b0711937",
   "metadata": {},
   "outputs": [
    {
     "name": "stdout",
     "output_type": "stream",
     "text": [
      "[[1.]\n",
      " [2.]\n",
      " [0.]\n",
      " [1.]]\n"
     ]
    }
   ],
   "source": [
    "# Ordinal Encoding\n",
    "\n",
    "from sklearn.preprocessing import OrdinalEncoder\n",
    "\n",
    "data = [['SMK'],['SMP'],['SD'],['SMK']]\n",
    "ordinal_encoder = OrdinalEncoder()\n",
    "numeric_data = ordinal_encoder.fit_transform(data)\n",
    "\n",
    "print(numeric_data)"
   ]
  },
  {
   "cell_type": "code",
   "execution_count": 9,
   "id": "9e5da32d",
   "metadata": {
    "scrolled": false
   },
   "outputs": [
    {
     "name": "stdout",
     "output_type": "stream",
     "text": [
      "   City  Target\n",
      "0   0.5       1\n",
      "1   0.0       0\n",
      "2   1.0       1\n",
      "3   0.5       0\n",
      "4   1.0       1\n"
     ]
    }
   ],
   "source": [
    "#Target Encoding\n",
    "\n",
    "data = pd.DataFrame({'City':['Paris','London','Berlin','Paris','Berlin'],\n",
    "                    'Target':[1,0,1,0,1]})\n",
    "\n",
    "mean_target = data.groupby('City')['Target'].mean()\n",
    "data['City'] = data['City'].map(mean_target)\n",
    "\n",
    "print(data)"
   ]
  },
  {
   "cell_type": "code",
   "execution_count": 16,
   "id": "9c84948b",
   "metadata": {},
   "outputs": [
    {
     "name": "stdout",
     "output_type": "stream",
     "text": [
      "  Mahasiswa Jenis Kelamin  Asal Kota       Program Studi\n",
      "0     Paijo             L    Magetan  Teknik Informatika\n",
      "1    Andini             P    Jombang  Teknik Informatika\n",
      "2     Sindy             P   Surabaya                PGSD\n",
      "3      Budi             L  Bangkalan          Ilmu Hukum\n",
      "4     Sonia             P   Sidoarjo      Teknik Elektro\n",
      "5      Alex             L    Jombang           Psikologi\n",
      "6    Wildan             L   Lamongan                PGSD\n",
      "7      Agus             L  Bangkalan      Teknik Elektro\n",
      "8    Nadhif             L       Pati           Psikologi\n"
     ]
    }
   ],
   "source": []
  },
  {
   "cell_type": "code",
   "execution_count": 22,
   "id": "47537256",
   "metadata": {},
   "outputs": [],
   "source": []
  }
 ],
 "metadata": {
  "kernelspec": {
   "display_name": "Python 3 (ipykernel)",
   "language": "python",
   "name": "python3"
  },
  "language_info": {
   "codemirror_mode": {
    "name": "ipython",
    "version": 3
   },
   "file_extension": ".py",
   "mimetype": "text/x-python",
   "name": "python",
   "nbconvert_exporter": "python",
   "pygments_lexer": "ipython3",
   "version": "3.11.4"
  }
 },
 "nbformat": 4,
 "nbformat_minor": 5
}
